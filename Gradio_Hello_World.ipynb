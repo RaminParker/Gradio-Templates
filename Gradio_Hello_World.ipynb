{
  "nbformat": 4,
  "nbformat_minor": 0,
  "metadata": {
    "colab": {
      "private_outputs": true,
      "provenance": [],
      "authorship_tag": "ABX9TyNi8h1UUCDEIHTHrlXzTK3j",
      "include_colab_link": true
    },
    "kernelspec": {
      "name": "python3",
      "display_name": "Python 3"
    },
    "language_info": {
      "name": "python"
    }
  },
  "cells": [
    {
      "cell_type": "markdown",
      "metadata": {
        "id": "view-in-github",
        "colab_type": "text"
      },
      "source": [
        "<a href=\"https://colab.research.google.com/github/RaminParker/Gradio-Templates/blob/main/Gradio_Hello_World.ipynb\" target=\"_parent\"><img src=\"https://colab.research.google.com/assets/colab-badge.svg\" alt=\"Open In Colab\"/></a>"
      ]
    },
    {
      "cell_type": "markdown",
      "source": [
        "Install Gradio"
      ],
      "metadata": {
        "id": "dKJC_evNxrnV"
      }
    },
    {
      "cell_type": "code",
      "source": [
        "!pip install gradio"
      ],
      "metadata": {
        "id": "kd1Af-42HxRB"
      },
      "execution_count": null,
      "outputs": []
    },
    {
      "cell_type": "markdown",
      "source": [
        "Load libraries"
      ],
      "metadata": {
        "id": "99MUMQfG_-Tg"
      }
    },
    {
      "cell_type": "code",
      "execution_count": null,
      "metadata": {
        "id": "ac4O8Xi3_9WD"
      },
      "outputs": [],
      "source": [
        "import gradio as gr"
      ]
    },
    {
      "cell_type": "markdown",
      "source": [
        "# Very simple example"
      ],
      "metadata": {
        "id": "SxrZaJQ6zf_Q"
      }
    },
    {
      "cell_type": "markdown",
      "source": [
        "Define a function to process your input and output"
      ],
      "metadata": {
        "id": "oi2019cax3Yl"
      }
    },
    {
      "cell_type": "code",
      "source": [
        "def greet(name):\n",
        "   return \"Hello 👋: \" + name + \"!\""
      ],
      "metadata": {
        "id": "ZvojX9EHxxFd"
      },
      "execution_count": null,
      "outputs": []
    },
    {
      "cell_type": "markdown",
      "source": [
        "Create interface object"
      ],
      "metadata": {
        "id": "NyrLuUWcyByW"
      }
    },
    {
      "cell_type": "code",
      "source": [
        "gui = gr.Interface(fn=greet,        # callable function\n",
        "                   inputs=\"text\",   # input format\n",
        "                   outputs=\"text\")  # output format"
      ],
      "metadata": {
        "id": "TFJa5ZSkx_s9"
      },
      "execution_count": null,
      "outputs": []
    },
    {
      "cell_type": "markdown",
      "source": [
        "Display the interface"
      ],
      "metadata": {
        "id": "ruziz2Xxymr8"
      }
    },
    {
      "cell_type": "code",
      "source": [
        "gui.launch()"
      ],
      "metadata": {
        "id": "WDXZWXccyMaf"
      },
      "execution_count": null,
      "outputs": []
    },
    {
      "cell_type": "markdown",
      "source": [
        "# Interface with multiple inputs"
      ],
      "metadata": {
        "id": "Bje7raANzjyU"
      }
    },
    {
      "cell_type": "markdown",
      "source": [
        "Define a function to process your input and output"
      ],
      "metadata": {
        "id": "EleC5WojzwfG"
      }
    },
    {
      "cell_type": "code",
      "source": [
        "def greet(fname ,lname):\n",
        "   return \"Hello 👋: \" + fname + \" \" + lname + \"!\""
      ],
      "metadata": {
        "id": "vSohEHKizrku"
      },
      "execution_count": null,
      "outputs": []
    },
    {
      "cell_type": "markdown",
      "source": [
        "Create input and output objects"
      ],
      "metadata": {
        "id": "XKt5Jeq6z1HF"
      }
    },
    {
      "cell_type": "code",
      "source": [
        "# input object1\n",
        "input1 = gr.components.Textbox(placeholder=\"Enter First Name\")\n",
        "\n",
        "# input object 2\n",
        "input2 = gr.components.Textbox(placeholder=\"Enter Last Name\")\n",
        "\n",
        "# output object\n",
        "output = gr.components.Textbox() "
      ],
      "metadata": {
        "id": "HTlM788Bz399"
      },
      "execution_count": null,
      "outputs": []
    },
    {
      "cell_type": "markdown",
      "source": [
        "Create interface"
      ],
      "metadata": {
        "id": "I2BuERCT0Dil"
      }
    },
    {
      "cell_type": "code",
      "source": [
        "gui = gr.Interface(fn=greet,                 # callable function\n",
        "                   inputs=[input1, input2],  # input format\n",
        "                   outputs=[output])         # output format"
      ],
      "metadata": {
        "id": "g0bdi3XFznCo"
      },
      "execution_count": null,
      "outputs": []
    },
    {
      "cell_type": "markdown",
      "source": [
        "Display the interface"
      ],
      "metadata": {
        "id": "mQPc-z5R2Npk"
      }
    },
    {
      "cell_type": "code",
      "source": [
        "gui.launch()"
      ],
      "metadata": {
        "id": "_NXJb9aP2AOb"
      },
      "execution_count": null,
      "outputs": []
    },
    {
      "cell_type": "code",
      "source": [],
      "metadata": {
        "id": "3700mRkk2DgD"
      },
      "execution_count": null,
      "outputs": []
    }
  ]
}