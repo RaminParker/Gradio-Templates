{
  "nbformat": 4,
  "nbformat_minor": 0,
  "metadata": {
    "colab": {
      "private_outputs": true,
      "provenance": [],
      "authorship_tag": "ABX9TyPHup4jvAwJTwR9tGRg3beV",
      "include_colab_link": true
    },
    "kernelspec": {
      "name": "python3",
      "display_name": "Python 3"
    },
    "language_info": {
      "name": "python"
    }
  },
  "cells": [
    {
      "cell_type": "markdown",
      "metadata": {
        "id": "view-in-github",
        "colab_type": "text"
      },
      "source": [
        "<a href=\"https://colab.research.google.com/github/RaminParker/Gradio-Templates/blob/main/Gradio_Image_to_Sketch.ipynb\" target=\"_parent\"><img src=\"https://colab.research.google.com/assets/colab-badge.svg\" alt=\"Open In Colab\"/></a>"
      ]
    },
    {
      "cell_type": "markdown",
      "source": [
        "Thanks to [Kalyani Avhale](https://medium.com/@kalyaniavhale7/tutorial-on-gradio-library-ecb8055923a1) for the inspiration and the great article!"
      ],
      "metadata": {
        "id": "Uz3bhELThRvm"
      }
    },
    {
      "cell_type": "code",
      "execution_count": null,
      "metadata": {
        "id": "guca3cBLhEr_"
      },
      "outputs": [],
      "source": [
        "!pip install gradio"
      ]
    },
    {
      "cell_type": "markdown",
      "source": [
        "Convert RGB image to sketch using opencv library\n",
        "This function takes a rgb image as input and displays sketched image as output."
      ],
      "metadata": {
        "id": "So7HjzBJht6I"
      }
    },
    {
      "cell_type": "code",
      "source": [
        "import cv2\n",
        "import gradio as gr"
      ],
      "metadata": {
        "id": "hRXwJUaLhqfE"
      },
      "execution_count": null,
      "outputs": []
    },
    {
      "cell_type": "code",
      "source": [
        "def convert_photo_to_Sketch(image):\n",
        "  img = cv2.resize(image, (256, 256))\n",
        "  \n",
        "  # convert image to RGB from BGR\n",
        "  RGB_img = cv2.cvtColor(img,cv2.COLOR_BGR2RGB)\n",
        "  \n",
        "  # convert imge to grey\n",
        "  grey_img=cv2.cvtColor(RGB_img, cv2.COLOR_BGR2GRAY)\n",
        "  \n",
        "  # invert grey scale image\n",
        "  invert_img=255-grey_img\n",
        "  \n",
        "  # Gaussian fun to blur the image\n",
        "  blur_img=cv2.GaussianBlur(invert_img, (21,21),0)\n",
        "  \n",
        "  # invert the blur image\n",
        "  inverted_blurred_img = 255 - blur_img\n",
        "  \n",
        "  # skecth the image\n",
        "  sketch_img=cv2.divide(grey_img,inverted_blurred_img, scale=256.0)\n",
        "  rgb_sketch=cv2.cvtColor(sketch_img, cv2.COLOR_BGR2RGB)\n",
        "  \n",
        "  # return the final sketched image\n",
        "  return rgb_sketch"
      ],
      "metadata": {
        "id": "mNENIW3-hxlZ"
      },
      "execution_count": null,
      "outputs": []
    },
    {
      "cell_type": "markdown",
      "source": [
        "Create input and output objects"
      ],
      "metadata": {
        "id": "LKRm8qnOiDmI"
      }
    },
    {
      "cell_type": "code",
      "source": [
        "imagein = gr.components.Image(label='Original Image')\n",
        "imageout =  gr.components.Image(label='Sketched Image', type='pil')"
      ],
      "metadata": {
        "id": "Oq-LJLJeiEJI"
      },
      "execution_count": null,
      "outputs": []
    },
    {
      "cell_type": "markdown",
      "source": [
        "Create interface"
      ],
      "metadata": {
        "id": "_Rx4gnnNijxQ"
      }
    },
    {
      "cell_type": "code",
      "source": [
        "gui = gr.Interface(fn=convert_photo_to_Sketch, \n",
        "                   inputs=imagein, \n",
        "                   outputs=imageout,\n",
        "                   title='Convert RGB Image to Sketch')"
      ],
      "metadata": {
        "id": "VhlNRssJiLBR"
      },
      "execution_count": null,
      "outputs": []
    },
    {
      "cell_type": "markdown",
      "source": [
        "Display the interface"
      ],
      "metadata": {
        "id": "a7HVaNK7d74u"
      }
    },
    {
      "cell_type": "code",
      "source": [
        "gui.launch()"
      ],
      "metadata": {
        "id": "r2QHl1-5d8n2"
      },
      "execution_count": null,
      "outputs": []
    },
    {
      "cell_type": "code",
      "source": [],
      "metadata": {
        "id": "qI4N8WoAiyKB"
      },
      "execution_count": null,
      "outputs": []
    }
  ]
}