{
  "nbformat": 4,
  "nbformat_minor": 0,
  "metadata": {
    "colab": {
      "private_outputs": true,
      "provenance": [],
      "authorship_tag": "ABX9TyOB4lv2z+gnn98BB4UqWYDm",
      "include_colab_link": true
    },
    "kernelspec": {
      "name": "python3",
      "display_name": "Python 3"
    },
    "language_info": {
      "name": "python"
    }
  },
  "cells": [
    {
      "cell_type": "markdown",
      "metadata": {
        "id": "view-in-github",
        "colab_type": "text"
      },
      "source": [
        "<a href=\"https://colab.research.google.com/github/RaminParker/Gradio-Templates/blob/main/Switch_Model.ipynb\" target=\"_parent\"><img src=\"https://colab.research.google.com/assets/colab-badge.svg\" alt=\"Open In Colab\"/></a>"
      ]
    },
    {
      "cell_type": "markdown",
      "source": [
        "This notebook was inspired by [Sagnik220](https://github.com/Sagnik220/Iris-Classification-GRADIO/blob/main/Iris_Classification.ipynb)"
      ],
      "metadata": {
        "id": "5V_DT0IJW46S"
      }
    },
    {
      "cell_type": "code",
      "source": [
        "!pip install gradio\n",
        "!pip install pycaret"
      ],
      "metadata": {
        "id": "0aEvsbpiO8Wd"
      },
      "execution_count": null,
      "outputs": []
    },
    {
      "cell_type": "markdown",
      "source": [
        "Load the iris dataset from pycaret repo"
      ],
      "metadata": {
        "id": "pdsipnDMPBKt"
      }
    },
    {
      "cell_type": "code",
      "execution_count": null,
      "metadata": {
        "id": "468YmqDIOog8"
      },
      "outputs": [],
      "source": [
        "import gradio as gr\n",
        "from pycaret.datasets import get_data\n",
        "from pycaret.classification import *"
      ]
    },
    {
      "cell_type": "code",
      "source": [
        "data = get_data('iris')"
      ],
      "metadata": {
        "id": "1WVjpyzCOwv7"
      },
      "execution_count": null,
      "outputs": []
    },
    {
      "cell_type": "markdown",
      "source": [
        "Initialize setup"
      ],
      "metadata": {
        "id": "OOARybTAPKhU"
      }
    },
    {
      "cell_type": "code",
      "source": [
        "s = setup(data, target = 'species', session_id = 123)"
      ],
      "metadata": {
        "id": "205rlpuSPMRi"
      },
      "execution_count": null,
      "outputs": []
    },
    {
      "cell_type": "code",
      "source": [
        "best = compare_models(n_select = 15)\n",
        "compare_model_results = pull()"
      ],
      "metadata": {
        "id": "XNSRQqPcPXee"
      },
      "execution_count": null,
      "outputs": []
    },
    {
      "cell_type": "markdown",
      "source": [
        "Creating a predict function to be passed into gradio UI"
      ],
      "metadata": {
        "id": "zaOa8CeUQZ6Q"
      }
    },
    {
      "cell_type": "code",
      "source": [
        "def predict(model, sepal_length, sepal_width, petal_length, petal_width):\n",
        "  \n",
        "    # build dataframe\n",
        "    df = pd.DataFrame.from_dict({'sepal_length': [sepal_length], 'sepal_width': [sepal_width], \n",
        "                                 'petal_length': [petal_length], 'petal_width': [petal_width]})\n",
        "    \n",
        "    modeles_list = list(compare_model_results['Model'])   # list of all models\n",
        "    model_index = modeles_list.index(model)               # pick list index of requested model\n",
        "    model = best[model_index]                             # pick requested model\n",
        "\n",
        "    # make prediction\n",
        "    pred = predict_model(model, df, raw_score=True)\n",
        "\n",
        "    # return result\n",
        "    return {'Iris-setosa': pred['Score_Iris-setosa'][0].astype('float64'), \n",
        "            'Iris-versicolor': pred['Score_Iris-versicolor'][0].astype('float64'),\n",
        "            'Iris-virginica' : pred['Score_Iris-virginica'][0].astype('float64')}"
      ],
      "metadata": {
        "id": "tcPqwwKtQOw7"
      },
      "execution_count": null,
      "outputs": []
    },
    {
      "cell_type": "markdown",
      "source": [
        "Define Gradio interface"
      ],
      "metadata": {
        "id": "fbT_fPurSKeW"
      }
    },
    {
      "cell_type": "code",
      "source": [
        "model = gr.inputs.Dropdown(list(compare_model_results['Model']), label=\"Model\")\n",
        "\n",
        "sepal_length = gr.inputs.Slider(minimum=1, maximum=10, default=data['sepal_length'].mean(), label='sepal_length')\n",
        "sepal_width = gr.inputs.Slider(minimum=1, maximum=10, default=data['sepal_width'].mean(), label='sepal_width')\n",
        "petal_length = gr.inputs.Slider(minimum=1, maximum=10, default=data['petal_length'].mean(), label='petal_length')\n",
        "petal_width = gr.inputs.Slider(minimum=1, maximum=10, default=data['petal_width'].mean(), label='petal_width')\n",
        "\n",
        "gui = gr.Interface(fn=predict, inputs=[model,sepal_length,sepal_width,petal_length,petal_width], outputs=\"label\", live=True)"
      ],
      "metadata": {
        "id": "ZhP4tx2rQpCK"
      },
      "execution_count": null,
      "outputs": []
    },
    {
      "cell_type": "markdown",
      "source": [
        "Display the interface"
      ],
      "metadata": {
        "id": "b6mXYsaVWKCg"
      }
    },
    {
      "cell_type": "code",
      "source": [
        "gui.launch()"
      ],
      "metadata": {
        "id": "YL9md1AfQrYI"
      },
      "execution_count": null,
      "outputs": []
    },
    {
      "cell_type": "code",
      "source": [],
      "metadata": {
        "id": "yjT6KYeEWMWk"
      },
      "execution_count": null,
      "outputs": []
    }
  ]
}