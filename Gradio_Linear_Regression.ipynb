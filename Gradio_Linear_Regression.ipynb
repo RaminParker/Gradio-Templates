{
  "nbformat": 4,
  "nbformat_minor": 0,
  "metadata": {
    "colab": {
      "private_outputs": true,
      "provenance": [],
      "authorship_tag": "ABX9TyNu1nCZ5c+/UtpTixP0Is8q",
      "include_colab_link": true
    },
    "kernelspec": {
      "name": "python3",
      "display_name": "Python 3"
    },
    "language_info": {
      "name": "python"
    }
  },
  "cells": [
    {
      "cell_type": "markdown",
      "metadata": {
        "id": "view-in-github",
        "colab_type": "text"
      },
      "source": [
        "<a href=\"https://colab.research.google.com/github/RaminParker/Gradio-Templates/blob/main/Gradio_Linear_Regression.ipynb\" target=\"_parent\"><img src=\"https://colab.research.google.com/assets/colab-badge.svg\" alt=\"Open In Colab\"/></a>"
      ]
    },
    {
      "cell_type": "markdown",
      "source": [
        "Install Gradio"
      ],
      "metadata": {
        "id": "dKJC_evNxrnV"
      }
    },
    {
      "cell_type": "code",
      "source": [
        "!pip install gradio"
      ],
      "metadata": {
        "id": "kd1Af-42HxRB"
      },
      "execution_count": null,
      "outputs": []
    },
    {
      "cell_type": "markdown",
      "source": [
        "Load libraries"
      ],
      "metadata": {
        "id": "99MUMQfG_-Tg"
      }
    },
    {
      "cell_type": "code",
      "execution_count": null,
      "metadata": {
        "id": "ac4O8Xi3_9WD"
      },
      "outputs": [],
      "source": [
        "import gradio as gr"
      ]
    },
    {
      "cell_type": "code",
      "source": [
        "import pandas as pd\n",
        "import numpy as np\n",
        "from sklearn.linear_model import LinearRegression"
      ],
      "metadata": {
        "id": "F7L8GvU84HUg"
      },
      "execution_count": null,
      "outputs": []
    },
    {
      "cell_type": "markdown",
      "source": [
        "Load the dataset to pandas dataframe"
      ],
      "metadata": {
        "id": "-ASeo0HW4Nig"
      }
    },
    {
      "cell_type": "code",
      "source": [
        "URL = \"http://bit.ly/w-data\"\n",
        "student_data = pd.read_csv(URL)\n",
        "student_data.head()"
      ],
      "metadata": {
        "id": "DnD7LCTQ4J7X"
      },
      "execution_count": null,
      "outputs": []
    },
    {
      "cell_type": "markdown",
      "source": [
        "Prepare data"
      ],
      "metadata": {
        "id": "wOfN5Miz4XzB"
      }
    },
    {
      "cell_type": "code",
      "source": [
        "X = student_data[[\"Hours\"]].copy()\n",
        "y = student_data['Scores']"
      ],
      "metadata": {
        "id": "-UrkphPW4UR3"
      },
      "execution_count": null,
      "outputs": []
    },
    {
      "cell_type": "markdown",
      "source": [
        "Create a machine learning model and train it"
      ],
      "metadata": {
        "id": "iiaDyhf_47mR"
      }
    },
    {
      "cell_type": "code",
      "source": [
        "lineareg = LinearRegression()\n",
        "model = lineareg.fit(X,y)\n",
        "print('Accuracy score : ', model.score(X,y),'\\n')"
      ],
      "metadata": {
        "id": "4WL1SaVp42TW"
      },
      "execution_count": null,
      "outputs": []
    },
    {
      "cell_type": "code",
      "source": [
        "hours = np.array(5).reshape(-1,1)\n",
        "hours"
      ],
      "metadata": {
        "id": "PuoZmKc3O7rJ"
      },
      "execution_count": null,
      "outputs": []
    },
    {
      "cell_type": "markdown",
      "source": [
        "Test the model"
      ],
      "metadata": {
        "id": "4ycL0VU86dkj"
      }
    },
    {
      "cell_type": "code",
      "source": [
        "def predict_score(hours):\n",
        "    hours = np.array(hours).reshape(-1,1) # transform number to array\n",
        "    pred_score = model.predict(hours)  \n",
        "    return np.round(pred_score[0], 2)"
      ],
      "metadata": {
        "id": "Bt44rieY5DcR"
      },
      "execution_count": null,
      "outputs": []
    },
    {
      "cell_type": "markdown",
      "source": [
        "Create input and output objects"
      ],
      "metadata": {
        "id": "9-UBG6C6dm7i"
      }
    },
    {
      "cell_type": "code",
      "source": [
        "input = gr.components.Number(label='Number of Hours studied')\n",
        "output = gr.components.Textbox(label='Predicted Score')"
      ],
      "metadata": {
        "id": "lKMIu_roda77"
      },
      "execution_count": null,
      "outputs": []
    },
    {
      "cell_type": "markdown",
      "source": [
        "Create interface"
      ],
      "metadata": {
        "id": "_anZ53igdyyI"
      }
    },
    {
      "cell_type": "code",
      "source": [
        "gui = gr.Interface( fn=predict_score,\n",
        "                    inputs=input,\n",
        "                    outputs=output)"
      ],
      "metadata": {
        "id": "WmFS-tC2dpCg"
      },
      "execution_count": null,
      "outputs": []
    },
    {
      "cell_type": "markdown",
      "source": [
        "Display the interface"
      ],
      "metadata": {
        "id": "a7HVaNK7d74u"
      }
    },
    {
      "cell_type": "code",
      "source": [
        "gui.launch()"
      ],
      "metadata": {
        "id": "r2QHl1-5d8n2"
      },
      "execution_count": null,
      "outputs": []
    },
    {
      "cell_type": "code",
      "source": [],
      "metadata": {
        "id": "0n01teLqd_z2"
      },
      "execution_count": null,
      "outputs": []
    }
  ]
}