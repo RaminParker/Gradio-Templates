{
  "nbformat": 4,
  "nbformat_minor": 0,
  "metadata": {
    "colab": {
      "private_outputs": true,
      "provenance": [],
      "authorship_tag": "ABX9TyNLiMi+g71joF2U6uivkq/l",
      "include_colab_link": true
    },
    "kernelspec": {
      "name": "python3",
      "display_name": "Python 3"
    },
    "language_info": {
      "name": "python"
    }
  },
  "cells": [
    {
      "cell_type": "markdown",
      "metadata": {
        "id": "view-in-github",
        "colab_type": "text"
      },
      "source": [
        "<a href=\"https://colab.research.google.com/github/RaminParker/Gradio-Templates/blob/main/Gradio_Classification.ipynb\" target=\"_parent\"><img src=\"https://colab.research.google.com/assets/colab-badge.svg\" alt=\"Open In Colab\"/></a>"
      ]
    },
    {
      "cell_type": "markdown",
      "source": [
        "Install Gradio"
      ],
      "metadata": {
        "id": "tmtaBqIZwqOd"
      }
    },
    {
      "cell_type": "code",
      "source": [
        "!pip install gradio"
      ],
      "metadata": {
        "id": "kd1Af-42HxRB"
      },
      "execution_count": null,
      "outputs": []
    },
    {
      "cell_type": "markdown",
      "source": [
        "Load libraries"
      ],
      "metadata": {
        "id": "99MUMQfG_-Tg"
      }
    },
    {
      "cell_type": "code",
      "execution_count": null,
      "metadata": {
        "id": "ac4O8Xi3_9WD"
      },
      "outputs": [],
      "source": [
        "from sklearn.tree import DecisionTreeClassifier\n",
        "from sklearn import datasets\n",
        "import pandas as pd\n",
        "\n",
        "import gradio as gr"
      ]
    },
    {
      "cell_type": "markdown",
      "source": [
        "Load data"
      ],
      "metadata": {
        "id": "KkW5fIpGAQro"
      }
    },
    {
      "cell_type": "code",
      "source": [
        "iris = datasets.load_iris()\n",
        "features = iris.data\n",
        "target = iris.target"
      ],
      "metadata": {
        "id": "krVPK3d6AHZ9"
      },
      "execution_count": null,
      "outputs": []
    },
    {
      "cell_type": "code",
      "source": [
        "df = pd.DataFrame(iris.data, columns=iris.feature_names)\n",
        "df.head()"
      ],
      "metadata": {
        "id": "JvAqPGnautws"
      },
      "execution_count": null,
      "outputs": []
    },
    {
      "cell_type": "markdown",
      "source": [
        "Create decision tree classifier object"
      ],
      "metadata": {
        "id": "nxA6VCpxAao4"
      }
    },
    {
      "cell_type": "code",
      "source": [
        "decisiontree = DecisionTreeClassifier(random_state=42)"
      ],
      "metadata": {
        "id": "KzzJwt2pAe8U"
      },
      "execution_count": null,
      "outputs": []
    },
    {
      "cell_type": "markdown",
      "source": [
        "Train model"
      ],
      "metadata": {
        "id": "Y6-4sQ0uAnlK"
      }
    },
    {
      "cell_type": "code",
      "source": [
        "model = decisiontree.fit(features, target)"
      ],
      "metadata": {
        "id": "Q56Aik02Am2C"
      },
      "execution_count": null,
      "outputs": []
    },
    {
      "cell_type": "markdown",
      "source": [
        "Make new observation"
      ],
      "metadata": {
        "id": "nLO1ZyP_Aw_S"
      }
    },
    {
      "cell_type": "code",
      "source": [
        "sepal_length = 5\n",
        "sepal_width = 4\n",
        "petal_length = 3\n",
        "petal_width = 2\n",
        "\n",
        "observation = [[sepal_length, sepal_width, petal_length, petal_width]]"
      ],
      "metadata": {
        "id": "F4lVrFAkAtdL"
      },
      "execution_count": null,
      "outputs": []
    },
    {
      "cell_type": "markdown",
      "source": [
        "Predict observation's class"
      ],
      "metadata": {
        "id": "YgUmFnGxA5g0"
      }
    },
    {
      "cell_type": "code",
      "source": [
        "model.predict(observation)"
      ],
      "metadata": {
        "id": "oKowXNdKA4Yk"
      },
      "execution_count": null,
      "outputs": []
    },
    {
      "cell_type": "markdown",
      "source": [
        "Get the probabilities of the observation:"
      ],
      "metadata": {
        "id": "lEOK31i4BD4U"
      }
    },
    {
      "cell_type": "code",
      "source": [
        "model.predict_proba(observation)"
      ],
      "metadata": {
        "id": "ziutlmoxBBtT"
      },
      "execution_count": null,
      "outputs": []
    },
    {
      "cell_type": "code",
      "source": [
        "list(iris.target_names)"
      ],
      "metadata": {
        "id": "MxsL5GuFDDpj"
      },
      "execution_count": null,
      "outputs": []
    },
    {
      "cell_type": "code",
      "source": [
        "categories = ('setosa', 'versicolor', 'virginica')"
      ],
      "metadata": {
        "id": "4bmBcoQ9BR20"
      },
      "execution_count": null,
      "outputs": []
    },
    {
      "cell_type": "code",
      "source": [
        "def classify_plants(sepal_length, sepal_width, petal_length, petal_width):\n",
        "  probs = model.predict_proba([[sepal_length, sepal_width, petal_length, petal_width]])\n",
        "  return dict(zip(categories, map(float, probs[0])))"
      ],
      "metadata": {
        "id": "4nZWk4XkD_dL"
      },
      "execution_count": null,
      "outputs": []
    },
    {
      "cell_type": "code",
      "source": [
        "classify_plants(sepal_length, sepal_width, petal_length, petal_width)"
      ],
      "metadata": {
        "id": "jePfGascEtWn"
      },
      "execution_count": null,
      "outputs": []
    },
    {
      "cell_type": "markdown",
      "source": [
        "Define Gradio interface"
      ],
      "metadata": {
        "id": "K2JjrYWJHH2h"
      }
    },
    {
      "cell_type": "code",
      "source": [
        "sepal_length = gr.components.Slider(1, 10, df['sepal length (cm)'].mean())  # min, max, default\n",
        "sepal_width = gr.components.Slider(1, 10, df['sepal width (cm)'].mean())\n",
        "petal_length = gr.components.Slider(1, 10, df['petal length (cm)'].mean())\n",
        "petal_width = gr.components.Slider(1, 10, df['petal width (cm)'].mean())\n",
        "\n",
        "label = gr.components.Label()\n",
        "\n",
        "gui = gr.Interface(fn=classify_plants, inputs=[sepal_length, sepal_width, petal_length, petal_width], outputs=label)"
      ],
      "metadata": {
        "id": "qveV3E8GLMY1"
      },
      "execution_count": null,
      "outputs": []
    },
    {
      "cell_type": "markdown",
      "source": [
        "Display the interface"
      ],
      "metadata": {
        "id": "qeMWilGdMyIf"
      }
    },
    {
      "cell_type": "code",
      "source": [
        "gui.launch()"
      ],
      "metadata": {
        "id": "zXLAacR2KQZU"
      },
      "execution_count": null,
      "outputs": []
    },
    {
      "cell_type": "code",
      "source": [],
      "metadata": {
        "id": "PvfwcYJKNPJc"
      },
      "execution_count": null,
      "outputs": []
    }
  ]
}